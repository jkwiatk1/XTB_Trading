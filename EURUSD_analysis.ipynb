{
 "cells": [
  {
   "cell_type": "markdown",
   "source": [
    "# EURUSD prediction"
   ],
   "metadata": {
    "collapsed": false
   }
  },
  {
   "cell_type": "code",
   "execution_count": 20,
   "metadata": {
    "collapsed": true,
    "ExecuteTime": {
     "start_time": "2023-10-10T12:25:31.988856Z",
     "end_time": "2023-10-10T12:25:32.018381Z"
    }
   },
   "outputs": [],
   "source": [
    "from database_operations.DatabaseManager import DatabaseManager\n",
    "from scripts.HistoricalDataCollector import HistoricalDataCollector\n",
    "from xapi import PeriodCode\n",
    "from my_secrets import config\n",
    "\n",
    "import pandas as pd"
   ]
  },
  {
   "cell_type": "markdown",
   "source": [
    "### Connection to database and define symbol"
   ],
   "metadata": {
    "collapsed": false
   }
  },
  {
   "cell_type": "code",
   "execution_count": 8,
   "outputs": [
    {
     "name": "stdout",
     "output_type": "stream",
     "text": [
      "Disconnected from db due to deletion of the DatabaseConnector object.\n"
     ]
    }
   ],
   "source": [
    "SYMBOL = \"EURUSD\"\n",
    "database_conn = DatabaseManager(config.DB_FILE)"
   ],
   "metadata": {
    "collapsed": false,
    "ExecuteTime": {
     "start_time": "2023-10-10T11:42:17.032334Z",
     "end_time": "2023-10-10T11:42:17.049349Z"
    }
   }
  },
  {
   "cell_type": "code",
   "execution_count": 9,
   "outputs": [
    {
     "name": "stdout",
     "output_type": "stream",
     "text": [
      "Connected to db.\n",
      "Set row factory.\n"
     ]
    }
   ],
   "source": [
    "SYMBOL_ID  = await database_conn.get_specify_data(\"stock\",[\"id\"], f\"symbol = ?\",(SYMBOL,))\n",
    "SYMBOL_ID = SYMBOL_ID[0][0]"
   ],
   "metadata": {
    "collapsed": false,
    "ExecuteTime": {
     "start_time": "2023-10-10T11:42:19.232319Z",
     "end_time": "2023-10-10T11:42:19.241272Z"
    }
   }
  },
  {
   "cell_type": "markdown",
   "source": [
    "## Download newest EURUSD data and save in db"
   ],
   "metadata": {
    "collapsed": false
   }
  },
  {
   "cell_type": "code",
   "execution_count": 10,
   "outputs": [
    {
     "name": "stdout",
     "output_type": "stream",
     "text": [
      "Connected to API.\n",
      "Last date in the database\n",
      "2023-10-10 00:00:00\n",
      "Today's date\n",
      "2023-10-10 00:00:00\n",
      "Newest data for symbol: EURUSD already exist in the database.\n",
      "Disconnected from db.\n"
     ]
    }
   ],
   "source": [
    "hist_data_collector = HistoricalDataCollector(\n",
    "    symbol= SYMBOL,\n",
    "    start='2000-01-01',\n",
    "    end='2023-10-10',\n",
    "    period=PeriodCode.PERIOD_D1,\n",
    "    credentials_file=config.CREDENTIALS_PATH\n",
    ")\n",
    "await hist_data_collector.connect_to_xapi()\n",
    "await database_conn.populate_prices(\"stock_price_1d\", symbol_id, SYMBOL, hist_data_collector)"
   ],
   "metadata": {
    "collapsed": false,
    "ExecuteTime": {
     "start_time": "2023-10-10T11:42:24.715370Z",
     "end_time": "2023-10-10T11:42:25.341977Z"
    }
   }
  },
  {
   "cell_type": "markdown",
   "source": [
    "## Download data from db"
   ],
   "metadata": {
    "collapsed": false
   }
  },
  {
   "cell_type": "code",
   "execution_count": 31,
   "outputs": [],
   "source": [
    "COLUMNS = ['date', 'open', 'close', 'high', 'low', 'volume']\n",
    "columns_with_prefix = [f'sp.{column}' for column in COLUMNS]\n",
    "columns_list = ', '.join(columns_with_prefix)"
   ],
   "metadata": {
    "collapsed": false,
    "ExecuteTime": {
     "start_time": "2023-10-10T12:37:53.658434Z",
     "end_time": "2023-10-10T12:37:53.683949Z"
    }
   }
  },
  {
   "cell_type": "code",
   "execution_count": 34,
   "outputs": [],
   "source": [
    "QUERY = f\"\"\"\n",
    "        SELECT {columns_list}\n",
    "        FROM stock s\n",
    "        JOIN stock_price_1d sp ON s.id = sp.stock_id\n",
    "        WHERE s.symbol = ?\n",
    "        \"\"\""
   ],
   "metadata": {
    "collapsed": false,
    "ExecuteTime": {
     "start_time": "2023-10-10T12:39:14.123421Z",
     "end_time": "2023-10-10T12:39:14.137933Z"
    }
   }
  },
  {
   "cell_type": "code",
   "execution_count": 38,
   "outputs": [],
   "source": [
    "data_list = await database_conn.execute_custom_query(QUERY, (SYMBOL,))"
   ],
   "metadata": {
    "collapsed": false,
    "ExecuteTime": {
     "start_time": "2023-10-10T12:40:03.277314Z",
     "end_time": "2023-10-10T12:40:03.288825Z"
    }
   }
  },
  {
   "cell_type": "markdown",
   "source": [
    "## Create dataframe"
   ],
   "metadata": {
    "collapsed": false
   }
  },
  {
   "cell_type": "code",
   "execution_count": 41,
   "outputs": [],
   "source": [
    "data_df = pd.DataFrame(data_list, columns=COLUMNS)"
   ],
   "metadata": {
    "collapsed": false,
    "ExecuteTime": {
     "start_time": "2023-10-10T12:40:14.146701Z",
     "end_time": "2023-10-10T12:40:14.192241Z"
    }
   }
  },
  {
   "cell_type": "code",
   "execution_count": 43,
   "outputs": [
    {
     "name": "stdout",
     "output_type": "stream",
     "text": [
      "                     date     open    close     high      low  volume\n",
      "0     2010-11-03 00:00:00  1.40308  1.40309  1.41816  1.25873       0\n",
      "1     2010-11-16 00:00:00  1.35782  1.40309  1.41816  1.25873       0\n",
      "2     2010-11-17 00:00:00  1.34837  1.35290  1.35649  1.34601       0\n",
      "3     2010-12-16 00:00:00  1.32225  1.35290  1.35649  1.31804       0\n",
      "4     2010-12-21 00:00:00  1.31183  1.31193  1.33583  1.30728       0\n",
      "...                   ...      ...      ...      ...      ...     ...\n",
      "3435  2023-10-05 00:00:00  1.05060  1.05480  1.05512  1.04994  957605\n",
      "3436  2023-10-06 00:00:00  1.05478  1.05891  1.05995  1.04821  990975\n",
      "3437  2023-10-08 00:00:00  1.05488  1.05538  1.05575  1.05352    2649\n",
      "3438  2023-10-09 00:00:00  1.05550  1.05653  1.05738  1.05189  915355\n",
      "3439  2023-10-10 00:00:00  1.05649  1.06092  1.06105  1.05538  448633\n",
      "\n",
      "[3440 rows x 6 columns]\n"
     ]
    }
   ],
   "source": [
    "print(data_df)"
   ],
   "metadata": {
    "collapsed": false,
    "ExecuteTime": {
     "start_time": "2023-10-10T12:40:25.871213Z",
     "end_time": "2023-10-10T12:40:25.890730Z"
    }
   }
  },
  {
   "cell_type": "code",
   "execution_count": null,
   "outputs": [],
   "source": [],
   "metadata": {
    "collapsed": false
   }
  }
 ],
 "metadata": {
  "kernelspec": {
   "display_name": "Python 3",
   "language": "python",
   "name": "python3"
  },
  "language_info": {
   "codemirror_mode": {
    "name": "ipython",
    "version": 2
   },
   "file_extension": ".py",
   "mimetype": "text/x-python",
   "name": "python",
   "nbconvert_exporter": "python",
   "pygments_lexer": "ipython2",
   "version": "2.7.6"
  }
 },
 "nbformat": 4,
 "nbformat_minor": 0
}
