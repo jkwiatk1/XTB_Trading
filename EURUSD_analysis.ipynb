{
 "cells": [
  {
   "cell_type": "markdown",
   "source": [
    "# EURUSD prediction"
   ],
   "metadata": {
    "collapsed": false
   }
  },
  {
   "cell_type": "markdown",
   "source": [
    "## Dependencies"
   ],
   "metadata": {
    "collapsed": false
   }
  },
  {
   "cell_type": "code",
   "execution_count": 1,
   "metadata": {
    "collapsed": true,
    "ExecuteTime": {
     "start_time": "2023-10-12T09:43:22.646914Z",
     "end_time": "2023-10-12T09:43:23.047991Z"
    }
   },
   "outputs": [],
   "source": [
    "from database_operations.DatabaseManager import DatabaseManager\n",
    "from scripts.HistoricalDataCollector import HistoricalDataCollector\n",
    "from xapi import PeriodCode\n",
    "from my_secrets import config\n",
    "\n",
    "import pandas as pd"
   ]
  },
  {
   "cell_type": "markdown",
   "source": [
    "### Connection to database and define symbol"
   ],
   "metadata": {
    "collapsed": false
   }
  },
  {
   "cell_type": "code",
   "execution_count": 2,
   "outputs": [],
   "source": [
    "SYMBOL = \"EURUSD\"\n",
    "database_conn = DatabaseManager(config.DB_FILE)"
   ],
   "metadata": {
    "collapsed": false,
    "ExecuteTime": {
     "start_time": "2023-10-12T09:43:31.367364Z",
     "end_time": "2023-10-12T09:43:31.374370Z"
    }
   }
  },
  {
   "cell_type": "code",
   "execution_count": 3,
   "outputs": [
    {
     "name": "stdout",
     "output_type": "stream",
     "text": [
      "Connected to db.\n",
      "Set row factory.\n"
     ]
    }
   ],
   "source": [
    "SYMBOL_ID  = await database_conn.get_specify_data(\"stock\",[\"id\"], f\"symbol = ?\",(SYMBOL,))\n",
    "SYMBOL_ID = SYMBOL_ID[0][0]"
   ],
   "metadata": {
    "collapsed": false,
    "ExecuteTime": {
     "start_time": "2023-10-12T09:43:32.137106Z",
     "end_time": "2023-10-12T09:43:32.141110Z"
    }
   }
  },
  {
   "cell_type": "markdown",
   "source": [
    "## Download newest EURUSD data and save in db"
   ],
   "metadata": {
    "collapsed": false
   }
  },
  {
   "cell_type": "code",
   "execution_count": 5,
   "outputs": [
    {
     "name": "stdout",
     "output_type": "stream",
     "text": [
      "Connected to API.\n",
      "Last date in the database\n",
      "2023-10-10 00:00:00\n",
      "Today's date\n",
      "2023-10-12 00:00:00\n",
      "Newest data downloaded\n",
      "Data for symbol: EURUSD just added to the database.\n",
      "Disconnected from db.\n"
     ]
    }
   ],
   "source": [
    "hist_data_collector = HistoricalDataCollector(\n",
    "    symbol= SYMBOL,\n",
    "    start='2000-01-01',\n",
    "    end='2023-10-10',\n",
    "    period=PeriodCode.PERIOD_D1,\n",
    "    credentials_file=config.CREDENTIALS_PATH\n",
    ")\n",
    "await hist_data_collector.connect_to_xapi()\n",
    "await database_conn.populate_prices(\"stock_price_1d\", SYMBOL_ID, SYMBOL, hist_data_collector)"
   ],
   "metadata": {
    "collapsed": false,
    "ExecuteTime": {
     "start_time": "2023-10-12T09:43:50.856354Z",
     "end_time": "2023-10-12T09:43:51.650078Z"
    }
   }
  },
  {
   "cell_type": "markdown",
   "source": [
    "## Download data from db"
   ],
   "metadata": {
    "collapsed": false
   }
  },
  {
   "cell_type": "code",
   "execution_count": 6,
   "outputs": [],
   "source": [
    "COLUMNS = ['date', 'open', 'close', 'high', 'low', 'volume']\n",
    "columns_with_prefix = [f'sp.{column}' for column in COLUMNS]\n",
    "columns_list = ', '.join(columns_with_prefix)"
   ],
   "metadata": {
    "collapsed": false,
    "ExecuteTime": {
     "start_time": "2023-10-12T09:43:55.936135Z",
     "end_time": "2023-10-12T09:43:55.943140Z"
    }
   }
  },
  {
   "cell_type": "code",
   "execution_count": 7,
   "outputs": [],
   "source": [
    "QUERY = f\"\"\"\n",
    "        SELECT {columns_list}\n",
    "        FROM stock s\n",
    "        JOIN stock_price_1d sp ON s.id = sp.stock_id\n",
    "        WHERE s.symbol = ?\n",
    "        \"\"\""
   ],
   "metadata": {
    "collapsed": false,
    "ExecuteTime": {
     "start_time": "2023-10-12T09:43:56.482231Z",
     "end_time": "2023-10-12T09:43:56.489372Z"
    }
   }
  },
  {
   "cell_type": "code",
   "execution_count": 8,
   "outputs": [
    {
     "name": "stdout",
     "output_type": "stream",
     "text": [
      "Connected to db.\n",
      "Set row factory.\n"
     ]
    }
   ],
   "source": [
    "data_list = await database_conn.execute_custom_query(QUERY, (SYMBOL,))"
   ],
   "metadata": {
    "collapsed": false,
    "ExecuteTime": {
     "start_time": "2023-10-12T09:43:57.070316Z",
     "end_time": "2023-10-12T09:43:57.081324Z"
    }
   }
  },
  {
   "cell_type": "markdown",
   "source": [
    "## Create dataframe"
   ],
   "metadata": {
    "collapsed": false
   }
  },
  {
   "cell_type": "code",
   "execution_count": 9,
   "outputs": [],
   "source": [
    "data_df = pd.DataFrame(data_list, columns=COLUMNS)"
   ],
   "metadata": {
    "collapsed": false,
    "ExecuteTime": {
     "start_time": "2023-10-12T09:43:59.144571Z",
     "end_time": "2023-10-12T09:43:59.152579Z"
    }
   }
  },
  {
   "cell_type": "code",
   "execution_count": 10,
   "outputs": [],
   "source": [
    "data_df['date'] = data_df['date'].str.split(' ').str[0]"
   ],
   "metadata": {
    "collapsed": false,
    "ExecuteTime": {
     "start_time": "2023-10-12T09:43:59.631316Z",
     "end_time": "2023-10-12T09:43:59.639824Z"
    }
   }
  },
  {
   "cell_type": "code",
   "execution_count": 11,
   "outputs": [],
   "source": [
    "data_df['date'] = pd.to_datetime(data_df['date'])"
   ],
   "metadata": {
    "collapsed": false,
    "ExecuteTime": {
     "start_time": "2023-10-12T09:44:00.051141Z",
     "end_time": "2023-10-12T09:44:00.060649Z"
    }
   }
  },
  {
   "cell_type": "code",
   "execution_count": 12,
   "outputs": [],
   "source": [
    "data_df.set_index('date',inplace=True)"
   ],
   "metadata": {
    "collapsed": false,
    "ExecuteTime": {
     "start_time": "2023-10-12T09:44:00.443835Z",
     "end_time": "2023-10-12T09:44:00.452343Z"
    }
   }
  },
  {
   "cell_type": "code",
   "execution_count": 14,
   "outputs": [
    {
     "data": {
      "text/plain": "<Axes: xlabel='date'>"
     },
     "execution_count": 14,
     "metadata": {},
     "output_type": "execute_result"
    },
    {
     "data": {
      "text/plain": "<Figure size 640x480 with 1 Axes>",
      "image/png": "[encoded data removed]"
     },
     "metadata": {},
     "output_type": "display_data"
    }
   ],
   "source": [
    "data_df.plot.line(y=\"close\",use_index=True)"
   ],
   "metadata": {
    "collapsed": false,
    "ExecuteTime": {
     "start_time": "2023-10-12T09:47:58.000895Z",
     "end_time": "2023-10-12T09:47:58.429764Z"
    }
   }
  },
  {
   "cell_type": "markdown",
   "source": [
    "# Reinforcement Learning"
   ],
   "metadata": {
    "collapsed": false
   }
  },
  {
   "cell_type": "code",
   "execution_count": null,
   "outputs": [],
   "source": [],
   "metadata": {
    "collapsed": false
   }
  }
 ],
 "metadata": {
  "kernelspec": {
   "display_name": "Python 3",
   "language": "python",
   "name": "python3"
  },
  "language_info": {
   "codemirror_mode": {
    "name": "ipython",
    "version": 2
   },
   "file_extension": ".py",
   "mimetype": "text/x-python",
   "name": "python",
   "nbconvert_exporter": "python",
   "pygments_lexer": "ipython2",
   "version": "2.7.6"
  }
 },
 "nbformat": 4,
 "nbformat_minor": 0
}
