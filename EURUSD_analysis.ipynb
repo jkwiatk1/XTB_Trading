{
 "cells": [
  {
   "cell_type": "markdown",
   "source": [
    "# EURUSD prediction"
   ],
   "metadata": {
    "collapsed": false
   }
  },
  {
   "cell_type": "markdown",
   "source": [
    "## Dependencies"
   ],
   "metadata": {
    "collapsed": false
   }
  },
  {
   "cell_type": "code",
   "execution_count": 88,
   "metadata": {
    "collapsed": true,
    "ExecuteTime": {
     "start_time": "2023-10-10T13:35:10.492779Z",
     "end_time": "2023-10-10T13:35:10.528310Z"
    }
   },
   "outputs": [],
   "source": [
    "from database_operations.DatabaseManager import DatabaseManager\n",
    "from scripts.HistoricalDataCollector import HistoricalDataCollector\n",
    "from xapi import PeriodCode\n",
    "from my_secrets import config\n",
    "\n",
    "import pandas as pd"
   ]
  },
  {
   "cell_type": "markdown",
   "source": [
    "### Connection to database and define symbol"
   ],
   "metadata": {
    "collapsed": false
   }
  },
  {
   "cell_type": "code",
   "execution_count": 89,
   "outputs": [
    {
     "name": "stdout",
     "output_type": "stream",
     "text": [
      "Disconnected from db due to deletion of the DatabaseConnector object.\n"
     ]
    }
   ],
   "source": [
    "SYMBOL = \"EURUSD\"\n",
    "database_conn = DatabaseManager(config.DB_FILE)"
   ],
   "metadata": {
    "collapsed": false,
    "ExecuteTime": {
     "start_time": "2023-10-10T13:35:11.613241Z",
     "end_time": "2023-10-10T13:35:11.642766Z"
    }
   }
  },
  {
   "cell_type": "code",
   "execution_count": 90,
   "outputs": [
    {
     "name": "stdout",
     "output_type": "stream",
     "text": [
      "Connected to db.\n",
      "Set row factory.\n"
     ]
    }
   ],
   "source": [
    "SYMBOL_ID  = await database_conn.get_specify_data(\"stock\",[\"id\"], f\"symbol = ?\",(SYMBOL,))\n",
    "SYMBOL_ID = SYMBOL_ID[0][0]"
   ],
   "metadata": {
    "collapsed": false,
    "ExecuteTime": {
     "start_time": "2023-10-10T13:35:12.319847Z",
     "end_time": "2023-10-10T13:35:12.395412Z"
    }
   }
  },
  {
   "cell_type": "markdown",
   "source": [
    "## Download newest EURUSD data and save in db"
   ],
   "metadata": {
    "collapsed": false
   }
  },
  {
   "cell_type": "code",
   "execution_count": 91,
   "outputs": [
    {
     "name": "stdout",
     "output_type": "stream",
     "text": [
      "Connected to API.\n",
      "Last date in the database\n",
      "2023-10-10 00:00:00\n",
      "Today's date\n",
      "2023-10-10 00:00:00\n",
      "Newest data for symbol: EURUSD already exist in the database.\n",
      "Disconnected from db.\n"
     ]
    }
   ],
   "source": [
    "hist_data_collector = HistoricalDataCollector(\n",
    "    symbol= SYMBOL,\n",
    "    start='2000-01-01',\n",
    "    end='2023-10-10',\n",
    "    period=PeriodCode.PERIOD_D1,\n",
    "    credentials_file=config.CREDENTIALS_PATH\n",
    ")\n",
    "await hist_data_collector.connect_to_xapi()\n",
    "await database_conn.populate_prices(\"stock_price_1d\", symbol_id, SYMBOL, hist_data_collector)"
   ],
   "metadata": {
    "collapsed": false,
    "ExecuteTime": {
     "start_time": "2023-10-10T13:35:13.845658Z",
     "end_time": "2023-10-10T13:35:14.475698Z"
    }
   }
  },
  {
   "cell_type": "markdown",
   "source": [
    "## Download data from db"
   ],
   "metadata": {
    "collapsed": false
   }
  },
  {
   "cell_type": "code",
   "execution_count": 92,
   "outputs": [],
   "source": [
    "COLUMNS = ['date', 'open', 'close', 'high', 'low', 'volume']\n",
    "columns_with_prefix = [f'sp.{column}' for column in COLUMNS]\n",
    "columns_list = ', '.join(columns_with_prefix)"
   ],
   "metadata": {
    "collapsed": false,
    "ExecuteTime": {
     "start_time": "2023-10-10T13:35:15.797833Z",
     "end_time": "2023-10-10T13:35:15.805840Z"
    }
   }
  },
  {
   "cell_type": "code",
   "execution_count": 93,
   "outputs": [],
   "source": [
    "QUERY = f\"\"\"\n",
    "        SELECT {columns_list}\n",
    "        FROM stock s\n",
    "        JOIN stock_price_1d sp ON s.id = sp.stock_id\n",
    "        WHERE s.symbol = ?\n",
    "        \"\"\""
   ],
   "metadata": {
    "collapsed": false,
    "ExecuteTime": {
     "start_time": "2023-10-10T13:35:16.307771Z",
     "end_time": "2023-10-10T13:35:16.318780Z"
    }
   }
  },
  {
   "cell_type": "code",
   "execution_count": 94,
   "outputs": [
    {
     "name": "stdout",
     "output_type": "stream",
     "text": [
      "Connected to db.\n",
      "Set row factory.\n"
     ]
    }
   ],
   "source": [
    "data_list = await database_conn.execute_custom_query(QUERY, (SYMBOL,))"
   ],
   "metadata": {
    "collapsed": false,
    "ExecuteTime": {
     "start_time": "2023-10-10T13:35:17.001867Z",
     "end_time": "2023-10-10T13:35:17.014878Z"
    }
   }
  },
  {
   "cell_type": "markdown",
   "source": [
    "## Create dataframe"
   ],
   "metadata": {
    "collapsed": false
   }
  },
  {
   "cell_type": "code",
   "execution_count": 95,
   "outputs": [],
   "source": [
    "data_df = pd.DataFrame(data_list, columns=COLUMNS)"
   ],
   "metadata": {
    "collapsed": false,
    "ExecuteTime": {
     "start_time": "2023-10-10T13:35:19.174231Z",
     "end_time": "2023-10-10T13:35:19.194749Z"
    }
   }
  },
  {
   "cell_type": "code",
   "execution_count": 96,
   "outputs": [],
   "source": [
    "data_df['date'] = data_df['date'].str.split(' ').str[0]"
   ],
   "metadata": {
    "collapsed": false,
    "ExecuteTime": {
     "start_time": "2023-10-10T13:35:20.215625Z",
     "end_time": "2023-10-10T13:35:20.233140Z"
    }
   }
  },
  {
   "cell_type": "code",
   "execution_count": 97,
   "outputs": [],
   "source": [
    "data_df['date'] = pd.to_datetime(data_df['date'])"
   ],
   "metadata": {
    "collapsed": false,
    "ExecuteTime": {
     "start_time": "2023-10-10T13:35:20.674519Z",
     "end_time": "2023-10-10T13:35:20.691533Z"
    }
   }
  },
  {
   "cell_type": "code",
   "execution_count": 98,
   "outputs": [],
   "source": [
    "data_df.set_index('date',inplace=True)"
   ],
   "metadata": {
    "collapsed": false,
    "ExecuteTime": {
     "start_time": "2023-10-10T13:35:21.128409Z",
     "end_time": "2023-10-10T13:35:21.140419Z"
    }
   }
  },
  {
   "cell_type": "code",
   "execution_count": 99,
   "outputs": [
    {
     "data": {
      "text/plain": "<AxesSubplot:xlabel='date'>"
     },
     "execution_count": 99,
     "metadata": {},
     "output_type": "execute_result"
    },
    {
     "data": {
      "text/plain": "<Figure size 640x480 with 1 Axes>",
      "image/png": "[encoded data removed]"
     },
     "metadata": {},
     "output_type": "display_data"
    }
   ],
   "source": [
    "data_df.plot.line(y=\"close\",use_index=True)"
   ],
   "metadata": {
    "collapsed": false,
    "ExecuteTime": {
     "start_time": "2023-10-10T13:35:21.608821Z",
     "end_time": "2023-10-10T13:35:21.738933Z"
    }
   }
  },
  {
   "cell_type": "markdown",
   "source": [
    "# Reinforcement Learning"
   ],
   "metadata": {
    "collapsed": false
   }
  },
  {
   "cell_type": "code",
   "execution_count": null,
   "outputs": [],
   "source": [],
   "metadata": {
    "collapsed": false
   }
  }
 ],
 "metadata": {
  "kernelspec": {
   "display_name": "Python 3",
   "language": "python",
   "name": "python3"
  },
  "language_info": {
   "codemirror_mode": {
    "name": "ipython",
    "version": 2
   },
   "file_extension": ".py",
   "mimetype": "text/x-python",
   "name": "python",
   "nbconvert_exporter": "python",
   "pygments_lexer": "ipython2",
   "version": "2.7.6"
  }
 },
 "nbformat": 4,
 "nbformat_minor": 0
}
