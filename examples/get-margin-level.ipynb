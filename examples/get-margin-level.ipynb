{
 "cells": [
  {
   "cell_type": "code",
   "execution_count": 1,
   "metadata": {},
   "outputs": [],
   "source": [
    "import json\n",
    "with open(\"../credentials.json\", \"r\") as f:\n",
    "    CREDENTIALS = json.load(f)"
   ]
  },
  {
   "cell_type": "code",
   "execution_count": 2,
   "metadata": {},
   "outputs": [
    {
     "data": {
      "text/plain": [
       "{'status': True,\n",
       " 'returnData': {'balance': 0.0,\n",
       "  'margin': 0.0,\n",
       "  'currency': 'PLN',\n",
       "  'credit': 0.0,\n",
       "  'equityFX': 0.0,\n",
       "  'equity': 0.0,\n",
       "  'margin_free': 0.0,\n",
       "  'margin_level': 0.0,\n",
       "  'stockValue': 0.0,\n",
       "  'stockLock': 0.0,\n",
       "  'cashStockValue': 0.0}}"
      ]
     },
     "execution_count": 2,
     "metadata": {},
     "output_type": "execute_result"
    }
   ],
   "source": [
    "import xapi\n",
    "x = await xapi.connect(**CREDENTIALS)\n",
    "await x.socket.getMarginLevel()"
   ]
  },
  {
   "cell_type": "code",
   "execution_count": null,
   "metadata": {},
   "outputs": [],
   "source": []
  }
 ],
 "metadata": {
  "kernelspec": {
   "display_name": ".venv",
   "language": "python",
   "name": "python3"
  },
  "language_info": {
   "codemirror_mode": {
    "name": "ipython",
    "version": 3
   },
   "file_extension": ".py",
   "mimetype": "text/x-python",
   "name": "python",
   "nbconvert_exporter": "python",
   "pygments_lexer": "ipython3",
   "version": "3.8.10"
  },
  "orig_nbformat": 4
 },
 "nbformat": 4,
 "nbformat_minor": 2
}
