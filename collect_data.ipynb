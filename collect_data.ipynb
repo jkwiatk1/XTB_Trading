{
 "cells": [
  {
   "cell_type": "code",
   "execution_count": 117,
   "metadata": {
    "collapsed": true,
    "ExecuteTime": {
     "start_time": "2023-08-29T19:37:26.741878Z",
     "end_time": "2023-08-29T19:37:26.760394Z"
    }
   },
   "outputs": [],
   "source": [
    "import json\n",
    "import xapi\n",
    "import pandas as pd\n",
    "import numpy as np\n",
    "from datetime import datetime, timedelta,date\n",
    "from dateutil.relativedelta import *\n",
    "from xapi.enums import PeriodCode\n",
    "from DataCollector_in_DF import  DataCollector\n"
   ]
  },
  {
   "cell_type": "code",
   "execution_count": 118,
   "outputs": [],
   "source": [
    "with open(\"credentials.json\", \"r\") as f:\n",
    "    CREDENTIALS = json.load(f)"
   ],
   "metadata": {
    "collapsed": false,
    "ExecuteTime": {
     "start_time": "2023-08-29T19:37:26.755890Z",
     "end_time": "2023-08-29T19:37:26.779410Z"
    }
   }
  },
  {
   "cell_type": "code",
   "execution_count": 119,
   "outputs": [],
   "source": [
    "x = await xapi.connect(**CREDENTIALS)"
   ],
   "metadata": {
    "collapsed": false,
    "ExecuteTime": {
     "start_time": "2023-08-29T19:37:26.771904Z",
     "end_time": "2023-08-29T19:37:27.516211Z"
    }
   }
  },
  {
   "cell_type": "code",
   "execution_count": 125,
   "outputs": [],
   "source": [
    "class HistoricalDataCollector():\n",
    "\n",
    "    ''' Class for collection historical data from XTB\n",
    "\n",
    "    Attrs\n",
    "    ==================\n",
    "\n",
    "    symbol - string\n",
    "            ticker symbol e.g 'EURUSD'\n",
    "\n",
    "    start - string\n",
    "            start date\n",
    "\n",
    "    end - string\n",
    "          end date\n",
    "\n",
    "    period - string\n",
    "           period in enum format from PeriodCode Class\n",
    "\n",
    "    cols_to_save - list\n",
    "                list of columns to save, names taken from DataCollector class\n",
    "\n",
    "    '''\n",
    "    def __init__(self, symbol, start, credentials_file, end=None, period = PeriodCode.PERIOD_MN1):\n",
    "        self.dataCollector = DataCollector(credentials_file)\n",
    "        self.symbol = symbol\n",
    "        self.possible_symbols = self.dataCollector.get_symbol_strings()\n",
    "        self.start = start\n",
    "        self.end = end if end is not None else datetime.now().strftime('%Y-%m-%d')\n",
    "        self.cols_to_save =['Date','Open', 'Close', 'High', 'Low']\n",
    "        # self.cols_to_save = self.dataCollector.get_column_names()[1:]\n",
    "        self.data = None\n",
    "        self.max_range = {'1min': 1, '5min': 1, '15min': 1, '30min': 6, '1h': 6, '4h': 12}\n",
    "        self.period = period\n",
    "        self.check_max_range()\n",
    "        self.get_history_data()\n",
    "\n",
    "    def __repr__(self):\n",
    "        rep = \"DataCollector(symbol = {}, start = {}, end = {}, period= {})\"\n",
    "        return rep.format(self.symbol, self.start, self.end, self.period)\n",
    "\n",
    "    def possible_symbols(self):\n",
    "        return self.possible_symbols\n",
    "\n",
    "    async def get_history_data(self):\n",
    "        ''' Collect and prepares the data'''\n",
    "\n",
    "        end_date = datetime.strptime(self.end, '%Y-%m-%d')\n",
    "        end = int(datetime.timestamp(end_date) * 1000)\n",
    "        start_date = datetime.strptime(self.start, '%Y-%m-%d')\n",
    "        start = int(datetime.timestamp(start_date) * 1000)\n",
    "\n",
    "        history_data = await x.socket.getChartRangeRequest(symbol= self.symbol, start = start, end = end, period= self.period, ticks= 0)\n",
    "        # return history_data\n",
    "        df = self.history_converter(history_data)\n",
    "\n",
    "        self.data = df\n",
    "        return  df\n",
    "\n",
    "    def history_converter(self, history):\n",
    "        '''Convert data from dict to pandas df'''\n",
    "\n",
    "        df_dict = history['returnData']['rateInfos']\n",
    "        digits = history['returnData']['digits']\n",
    "\n",
    "        df = pd.DataFrame.from_dict(df_dict)\n",
    "\n",
    "        df['Date'] = df['ctm'].apply(lambda x: datetime.fromtimestamp(x / 1000))\n",
    "        df['Open'] = df['open'] / (10 ** digits)\n",
    "        df['Close'] = df['Open'] + df['close'] / (10 ** digits)\n",
    "        df['High'] = df['Open'] + df['high'] / (10 ** digits)\n",
    "        df['Low'] = df['Open'] + df['low'] / (10 ** digits)\n",
    "\n",
    "        df = df[self.cols_to_save]\n",
    "        df.set_index(\"Date\", inplace=True, drop=True)\n",
    "\n",
    "\n",
    "        return df\n",
    "\n",
    "    def check_max_range(self):\n",
    "        pass\n",
    "    #\n",
    "    #     '''Check max range for given period and correct it if exceeded'''\n",
    "    #\n",
    "    #     if self.period in self.max_range.keys():\n",
    "    #\n",
    "    #         end = datetime.now()\n",
    "    #         start = datetime.strptime(self.start, '%Y-%m-%d')\n",
    "    #         delta = relativedelta(end, start)\n",
    "    #\n",
    "    #         delta_months = delta.months + (delta.years * 12)\n",
    "    #\n",
    "    #         if self.max_range[self.period] < delta_months:\n",
    "    #             print(f\"Max range for given period {self.period} is {self.max_range[self.period]} months from now\")\n",
    "    #             date_start = datetime.now() + relativedelta(months=-self.max_range[self.period])\n",
    "    #             if date_start > datetime.strptime(self.end, '%Y-%m-%d'):\n",
    "    #                 self.end = datetime.now().strftime('%Y-%m-%d')\n",
    "    #                 print(f\"End date is set to {self.end}\")\n",
    "    #\n",
    "    #\n",
    "    #             self.start = date_start.strftime('%Y-%m-%d')\n",
    "    #             print(f\"Start date is set to {self.start}\")\n",
    "    #"
   ],
   "metadata": {
    "collapsed": false,
    "ExecuteTime": {
     "start_time": "2023-08-29T19:42:21.011512Z",
     "end_time": "2023-08-29T19:42:21.028026Z"
    }
   }
  },
  {
   "cell_type": "code",
   "execution_count": 126,
   "outputs": [
    {
     "name": "stdout",
     "output_type": "stream",
     "text": [
      "Data was loaded from a CSV file.\n"
     ]
    },
    {
     "name": "stderr",
     "output_type": "stream",
     "text": [
      "C:\\Users\\jkwia\\AppData\\Local\\Temp\\ipykernel_11176\\3762284502.py:36: RuntimeWarning: coroutine 'HistoricalDataCollector.get_history_data' was never awaited\n",
      "  self.get_history_data()\n",
      "RuntimeWarning: Enable tracemalloc to get the object allocation traceback\n"
     ]
    }
   ],
   "source": [
    "hist_obj =  HistoricalDataCollector(\n",
    "    symbol='EURUSD',\n",
    "    start='2023-01-01',\n",
    "    end='2023-08-01',\n",
    "    period = PeriodCode.PERIOD_D1,\n",
    "    credentials_file='credentials.json'\n",
    ")"
   ],
   "metadata": {
    "collapsed": false,
    "ExecuteTime": {
     "start_time": "2023-08-29T19:42:21.704606Z",
     "end_time": "2023-08-29T19:42:21.721620Z"
    }
   }
  },
  {
   "cell_type": "code",
   "execution_count": 127,
   "outputs": [],
   "source": [
    "response = await hist_obj.get_history_data()"
   ],
   "metadata": {
    "collapsed": false,
    "ExecuteTime": {
     "start_time": "2023-08-29T19:42:22.413293Z",
     "end_time": "2023-08-29T19:42:22.479350Z"
    }
   }
  },
  {
   "cell_type": "code",
   "execution_count": 128,
   "outputs": [
    {
     "data": {
      "text/plain": "               Open    Close     High      Low\nDate                                          \n2023-01-02  1.06922  1.06657  1.07100  1.06500\n2023-01-03  1.06657  1.05470  1.06827  1.05191\n2023-01-04  1.05470  1.06052  1.06349  1.05401\n2023-01-05  1.06052  1.05206  1.06309  1.05145\n2023-01-06  1.05203  1.06456  1.06477  1.04809\n...             ...      ...      ...      ...\n2023-07-27  1.10866  1.09767  1.11491  1.09654\n2023-07-28  1.09769  1.10224  1.10470  1.09431\n2023-07-30  1.10274  1.10171  1.10274  1.10110\n2023-07-31  1.10173  1.09968  1.10454  1.09896\n2023-08-01  1.09966  1.10181  1.10194  1.09519\n\n[182 rows x 4 columns]",
      "text/html": "<div>\n<style scoped>\n    .dataframe tbody tr th:only-of-type {\n        vertical-align: middle;\n    }\n\n    .dataframe tbody tr th {\n        vertical-align: top;\n    }\n\n    .dataframe thead th {\n        text-align: right;\n    }\n</style>\n<table border=\"1\" class=\"dataframe\">\n  <thead>\n    <tr style=\"text-align: right;\">\n      <th></th>\n      <th>Open</th>\n      <th>Close</th>\n      <th>High</th>\n      <th>Low</th>\n    </tr>\n    <tr>\n      <th>Date</th>\n      <th></th>\n      <th></th>\n      <th></th>\n      <th></th>\n    </tr>\n  </thead>\n  <tbody>\n    <tr>\n      <th>2023-01-02</th>\n      <td>1.06922</td>\n      <td>1.06657</td>\n      <td>1.07100</td>\n      <td>1.06500</td>\n    </tr>\n    <tr>\n      <th>2023-01-03</th>\n      <td>1.06657</td>\n      <td>1.05470</td>\n      <td>1.06827</td>\n      <td>1.05191</td>\n    </tr>\n    <tr>\n      <th>2023-01-04</th>\n      <td>1.05470</td>\n      <td>1.06052</td>\n      <td>1.06349</td>\n      <td>1.05401</td>\n    </tr>\n    <tr>\n      <th>2023-01-05</th>\n      <td>1.06052</td>\n      <td>1.05206</td>\n      <td>1.06309</td>\n      <td>1.05145</td>\n    </tr>\n    <tr>\n      <th>2023-01-06</th>\n      <td>1.05203</td>\n      <td>1.06456</td>\n      <td>1.06477</td>\n      <td>1.04809</td>\n    </tr>\n    <tr>\n      <th>...</th>\n      <td>...</td>\n      <td>...</td>\n      <td>...</td>\n      <td>...</td>\n    </tr>\n    <tr>\n      <th>2023-07-27</th>\n      <td>1.10866</td>\n      <td>1.09767</td>\n      <td>1.11491</td>\n      <td>1.09654</td>\n    </tr>\n    <tr>\n      <th>2023-07-28</th>\n      <td>1.09769</td>\n      <td>1.10224</td>\n      <td>1.10470</td>\n      <td>1.09431</td>\n    </tr>\n    <tr>\n      <th>2023-07-30</th>\n      <td>1.10274</td>\n      <td>1.10171</td>\n      <td>1.10274</td>\n      <td>1.10110</td>\n    </tr>\n    <tr>\n      <th>2023-07-31</th>\n      <td>1.10173</td>\n      <td>1.09968</td>\n      <td>1.10454</td>\n      <td>1.09896</td>\n    </tr>\n    <tr>\n      <th>2023-08-01</th>\n      <td>1.09966</td>\n      <td>1.10181</td>\n      <td>1.10194</td>\n      <td>1.09519</td>\n    </tr>\n  </tbody>\n</table>\n<p>182 rows × 4 columns</p>\n</div>"
     },
     "execution_count": 128,
     "metadata": {},
     "output_type": "execute_result"
    }
   ],
   "source": [
    "response"
   ],
   "metadata": {
    "collapsed": false,
    "ExecuteTime": {
     "start_time": "2023-08-29T19:42:24.618628Z",
     "end_time": "2023-08-29T19:42:24.635642Z"
    }
   }
  },
  {
   "cell_type": "code",
   "execution_count": 129,
   "outputs": [
    {
     "data": {
      "text/plain": "'EURUSD'"
     },
     "execution_count": 129,
     "metadata": {},
     "output_type": "execute_result"
    }
   ],
   "source": [
    "hist_obj.symbol"
   ],
   "metadata": {
    "collapsed": false,
    "ExecuteTime": {
     "start_time": "2023-08-29T19:42:32.423241Z",
     "end_time": "2023-08-29T19:42:32.437253Z"
    }
   }
  }
 ],
 "metadata": {
  "kernelspec": {
   "display_name": "Python 3",
   "language": "python",
   "name": "python3"
  },
  "language_info": {
   "codemirror_mode": {
    "name": "ipython",
    "version": 2
   },
   "file_extension": ".py",
   "mimetype": "text/x-python",
   "name": "python",
   "nbconvert_exporter": "python",
   "pygments_lexer": "ipython2",
   "version": "2.7.6"
  }
 },
 "nbformat": 4,
 "nbformat_minor": 0
}
